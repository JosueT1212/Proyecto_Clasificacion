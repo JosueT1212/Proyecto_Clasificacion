{
 "cells": [
  {
   "cell_type": "code",
   "execution_count": 1,
   "id": "675c15bd",
   "metadata": {},
   "outputs": [],
   "source": [
    "from scipy import stats\n",
    "import time\n",
    "import requests\n",
    "import numpy as np\n",
    "import threading\n",
    "from scipy.interpolate import interp1d\n",
    "from sklearn.model_selection import StratifiedKFold, cross_validate, cross_val_predict, LeaveOneOut, RepeatedKFold, cross_val_score, GridSearchCV\n",
    "from sklearn.metrics import classification_report, confusion_matrix, accuracy_score, recall_score, precision_score\n",
    "from sklearn.svm import SVC\n",
    "from sklearn.neighbors import KNeighborsClassifier, NearestCentroid\n",
    "from sklearn.discriminant_analysis import LinearDiscriminantAnalysis\n",
    "from sklearn.neural_network import MLPClassifier\n",
    "from sklearn.naive_bayes import GaussianNB\n",
    "from sklearn.linear_model import RidgeClassifier,SGDClassifier\n",
    "from sklearn.ensemble import GradientBoostingClassifier\n",
    "from sklearn.feature_selection import SelectKBest, f_classif, SequentialFeatureSelector, RFE\n",
    "import matplotlib.pyplot as plt\n",
    "import seaborn as sns\n",
    "import pandas as pd"
   ]
  },
  {
   "cell_type": "code",
   "execution_count": 2,
   "id": "af86e748",
   "metadata": {},
   "outputs": [
    {
     "data": {
      "text/plain": [
       "(180, 30)"
      ]
     },
     "execution_count": 2,
     "metadata": {},
     "output_type": "execute_result"
    }
   ],
   "source": [
    "#---------- Modelos Inciales ----------------------\n",
    "\n",
    "data = np.loadtxt('../Class Scripts/activity_data.txt')\n",
    "x = data[:,1:]\n",
    "y = data[:,0]\n",
    "\n",
    "x.shape"
   ]
  },
  {
   "cell_type": "code",
   "execution_count": 3,
   "id": "035503e4",
   "metadata": {},
   "outputs": [
    {
     "name": "stdout",
     "output_type": "stream",
     "text": [
      "              precision    recall  f1-score   support\n",
      "\n",
      "         1.0       0.88      0.73      0.80        30\n",
      "         2.0       1.00      0.97      0.98        30\n",
      "         3.0       0.77      0.90      0.83        30\n",
      "         4.0       1.00      1.00      1.00        30\n",
      "         5.0       0.87      0.87      0.87        30\n",
      "         6.0       0.87      0.90      0.89        30\n",
      "\n",
      "    accuracy                           0.89       180\n",
      "   macro avg       0.90      0.89      0.89       180\n",
      "weighted avg       0.90      0.89      0.89       180\n",
      "\n"
     ]
    }
   ],
   "source": [
    "#------ SVM LINEAL\n",
    "n_folds = 5\n",
    "clf_cv = SVC(kernel='linear')\n",
    "y_pred = cross_val_predict(clf_cv, x, y, cv=n_folds)\n",
    "print(classification_report(y, y_pred))"
   ]
  },
  {
   "cell_type": "code",
   "execution_count": 4,
   "id": "6f9fa8a1",
   "metadata": {},
   "outputs": [
    {
     "name": "stdout",
     "output_type": "stream",
     "text": [
      "              precision    recall  f1-score   support\n",
      "\n",
      "         1.0       0.83      0.17      0.28        30\n",
      "         2.0       0.97      0.97      0.97        30\n",
      "         3.0       0.08      0.03      0.05        30\n",
      "         4.0       0.42      1.00      0.59        30\n",
      "         5.0       0.92      0.73      0.81        30\n",
      "         6.0       0.81      0.97      0.88        30\n",
      "\n",
      "    accuracy                           0.64       180\n",
      "   macro avg       0.67      0.64      0.60       180\n",
      "weighted avg       0.67      0.64      0.60       180\n",
      "\n"
     ]
    }
   ],
   "source": [
    "#------ SVM BASE RADIAL\n",
    "n_folds = 5\n",
    "clf_cv = SVC(kernel='rbf')\n",
    "y_pred = cross_val_predict(clf_cv, x, y, cv=n_folds)\n",
    "print(classification_report(y, y_pred))"
   ]
  },
  {
   "cell_type": "code",
   "execution_count": 5,
   "id": "9b608158",
   "metadata": {},
   "outputs": [
    {
     "name": "stdout",
     "output_type": "stream",
     "text": [
      "              precision    recall  f1-score   support\n",
      "\n",
      "         1.0       0.93      0.93      0.93        30\n",
      "         2.0       1.00      1.00      1.00        30\n",
      "         3.0       0.90      0.90      0.90        30\n",
      "         4.0       0.97      0.97      0.97        30\n",
      "         5.0       0.96      0.90      0.93        30\n",
      "         6.0       0.91      0.97      0.94        30\n",
      "\n",
      "    accuracy                           0.94       180\n",
      "   macro avg       0.95      0.94      0.94       180\n",
      "weighted avg       0.95      0.94      0.94       180\n",
      "\n"
     ]
    }
   ],
   "source": [
    "#------ LDA\n",
    "n_folds = 5\n",
    "clf_cv = LinearDiscriminantAnalysis()\n",
    "y_pred = cross_val_predict(clf_cv, x, y, cv=n_folds)\n",
    "print(classification_report(y, y_pred))"
   ]
  },
  {
   "cell_type": "code",
   "execution_count": 6,
   "id": "5a394312",
   "metadata": {},
   "outputs": [
    {
     "name": "stdout",
     "output_type": "stream",
     "text": [
      "              precision    recall  f1-score   support\n",
      "\n",
      "         1.0       0.93      0.87      0.90        30\n",
      "         2.0       0.90      0.90      0.90        30\n",
      "         3.0       0.88      0.93      0.90        30\n",
      "         4.0       1.00      1.00      1.00        30\n",
      "         5.0       0.77      0.67      0.71        30\n",
      "         6.0       0.79      0.90      0.84        30\n",
      "\n",
      "    accuracy                           0.88       180\n",
      "   macro avg       0.88      0.88      0.88       180\n",
      "weighted avg       0.88      0.88      0.88       180\n",
      "\n"
     ]
    }
   ],
   "source": [
    "#------ KNN\n",
    "n_folds = 5\n",
    "clf_cv = KNeighborsClassifier()\n",
    "y_pred = cross_val_predict(clf_cv, x, y, cv=n_folds)\n",
    "print(classification_report(y, y_pred))"
   ]
  },
  {
   "cell_type": "code",
   "execution_count": 7,
   "id": "dc2631af",
   "metadata": {},
   "outputs": [
    {
     "name": "stdout",
     "output_type": "stream",
     "text": [
      "              precision    recall  f1-score   support\n",
      "\n",
      "         1.0       0.90      0.87      0.88        30\n",
      "         2.0       0.97      0.97      0.97        30\n",
      "         3.0       0.87      0.90      0.89        30\n",
      "         4.0       0.97      1.00      0.98        30\n",
      "         5.0       0.77      0.67      0.71        30\n",
      "         6.0       0.73      0.80      0.76        30\n",
      "\n",
      "    accuracy                           0.87       180\n",
      "   macro avg       0.87      0.87      0.87       180\n",
      "weighted avg       0.87      0.87      0.87       180\n",
      "\n"
     ]
    }
   ],
   "source": [
    "#------ MLP\n",
    "n_folds = 5\n",
    "clf_cv = MLPClassifier(hidden_layer_sizes=(100,100),max_iter=10000)\n",
    "y_pred = cross_val_predict(clf_cv, x, y, cv=n_folds)\n",
    "print(classification_report(y, y_pred))"
   ]
  },
  {
   "cell_type": "code",
   "execution_count": 8,
   "id": "c9d11c4e",
   "metadata": {},
   "outputs": [
    {
     "name": "stdout",
     "output_type": "stream",
     "text": [
      "              precision    recall  f1-score   support\n",
      "\n",
      "         1.0       0.93      0.93      0.93        30\n",
      "         2.0       1.00      0.93      0.97        30\n",
      "         3.0       0.97      0.93      0.95        30\n",
      "         4.0       1.00      1.00      1.00        30\n",
      "         5.0       0.82      0.90      0.86        30\n",
      "         6.0       0.90      0.90      0.90        30\n",
      "\n",
      "    accuracy                           0.93       180\n",
      "   macro avg       0.94      0.93      0.93       180\n",
      "weighted avg       0.94      0.93      0.93       180\n",
      "\n"
     ]
    }
   ],
   "source": [
    "#------- Gaussian Naive Bayes\n",
    "n_folds = 5\n",
    "clf_cv = GaussianNB()\n",
    "y_pred = cross_val_predict(clf_cv, x, y, cv=n_folds)\n",
    "print(classification_report(y, y_pred))"
   ]
  },
  {
   "cell_type": "code",
   "execution_count": 9,
   "id": "2c30ec99",
   "metadata": {},
   "outputs": [
    {
     "name": "stdout",
     "output_type": "stream",
     "text": [
      "              precision    recall  f1-score   support\n",
      "\n",
      "         1.0       0.83      0.63      0.72        30\n",
      "         2.0       1.00      1.00      1.00        30\n",
      "         3.0       0.85      0.77      0.81        30\n",
      "         4.0       0.71      0.97      0.82        30\n",
      "         5.0       0.88      0.77      0.82        30\n",
      "         6.0       0.82      0.90      0.86        30\n",
      "\n",
      "    accuracy                           0.84       180\n",
      "   macro avg       0.85      0.84      0.84       180\n",
      "weighted avg       0.85      0.84      0.84       180\n",
      "\n"
     ]
    }
   ],
   "source": [
    "#------- Ridge Classifier\n",
    "n_folds = 5\n",
    "clf_cv = RidgeClassifier()\n",
    "y_pred = cross_val_predict(clf_cv, x, y, cv=n_folds)\n",
    "print(classification_report(y, y_pred))"
   ]
  },
  {
   "cell_type": "code",
   "execution_count": 10,
   "id": "b4339ee6",
   "metadata": {},
   "outputs": [
    {
     "name": "stdout",
     "output_type": "stream",
     "text": [
      "              precision    recall  f1-score   support\n",
      "\n",
      "         1.0       0.42      0.33      0.37        30\n",
      "         2.0       0.74      0.93      0.82        30\n",
      "         3.0       0.80      0.40      0.53        30\n",
      "         4.0       0.72      0.93      0.81        30\n",
      "         5.0       0.46      0.60      0.52        30\n",
      "         6.0       0.28      0.23      0.25        30\n",
      "\n",
      "    accuracy                           0.57       180\n",
      "   macro avg       0.57      0.57      0.55       180\n",
      "weighted avg       0.57      0.57      0.55       180\n",
      "\n"
     ]
    }
   ],
   "source": [
    "#------- SGDClassifier\n",
    "clf_cv = SGDClassifier()\n",
    "y_pred = cross_val_predict(clf_cv, x, y, cv=n_folds)\n",
    "print(classification_report(y, y_pred))"
   ]
  },
  {
   "cell_type": "code",
   "execution_count": 11,
   "id": "b9ecd501",
   "metadata": {},
   "outputs": [
    {
     "name": "stdout",
     "output_type": "stream",
     "text": [
      "              precision    recall  f1-score   support\n",
      "\n",
      "         1.0       0.87      0.67      0.75        30\n",
      "         2.0       0.82      0.77      0.79        30\n",
      "         3.0       0.73      0.53      0.62        30\n",
      "         4.0       0.65      1.00      0.79        30\n",
      "         5.0       0.80      0.53      0.64        30\n",
      "         6.0       0.71      0.97      0.82        30\n",
      "\n",
      "    accuracy                           0.74       180\n",
      "   macro avg       0.76      0.74      0.73       180\n",
      "weighted avg       0.76      0.74      0.73       180\n",
      "\n"
     ]
    }
   ],
   "source": [
    "#----------- Nearest Centroid\n",
    "n_folds = 5\n",
    "clf_cv = NearestCentroid()\n",
    "y_pred = cross_val_predict(clf_cv, x, y, cv=n_folds)\n",
    "print(classification_report(y, y_pred))"
   ]
  },
  {
   "cell_type": "code",
   "execution_count": 12,
   "id": "a6d241c2",
   "metadata": {},
   "outputs": [
    {
     "name": "stdout",
     "output_type": "stream",
     "text": [
      "              precision    recall  f1-score   support\n",
      "\n",
      "         1.0       0.93      0.87      0.90        30\n",
      "         2.0       0.96      0.90      0.93        30\n",
      "         3.0       0.90      0.93      0.92        30\n",
      "         4.0       1.00      1.00      1.00        30\n",
      "         5.0       0.74      0.83      0.78        30\n",
      "         6.0       0.86      0.83      0.85        30\n",
      "\n",
      "    accuracy                           0.89       180\n",
      "   macro avg       0.90      0.89      0.90       180\n",
      "weighted avg       0.90      0.89      0.90       180\n",
      "\n"
     ]
    }
   ],
   "source": [
    "#----------------GradientBoostingClassifier\n",
    "n_folds = 5\n",
    "clf_cv = GradientBoostingClassifier()\n",
    "y_pred = cross_val_predict(clf_cv, x, y, cv=n_folds)\n",
    "print(classification_report(y, y_pred))\n"
   ]
  }
 ],
 "metadata": {
  "kernelspec": {
   "display_name": ".venv",
   "language": "python",
   "name": "python3"
  },
  "language_info": {
   "codemirror_mode": {
    "name": "ipython",
    "version": 3
   },
   "file_extension": ".py",
   "mimetype": "text/x-python",
   "name": "python",
   "nbconvert_exporter": "python",
   "pygments_lexer": "ipython3",
   "version": "3.12.6"
  }
 },
 "nbformat": 4,
 "nbformat_minor": 5
}
